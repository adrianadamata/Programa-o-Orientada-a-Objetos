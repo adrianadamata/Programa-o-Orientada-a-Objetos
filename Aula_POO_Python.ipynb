{
 "cells": [
  {
   "cell_type": "markdown",
   "id": "13a40b15",
   "metadata": {},
   "source": [
    "# Aula: Introdução à Programação Orientada a Objetos em Python"
   ]
  },
  {
   "cell_type": "markdown",
   "id": "c7f10046",
   "metadata": {},
   "source": [
    "\n",
    "## O que é Programação Orientada a Objetos (POO)?\n",
    "\n",
    "Programação baseada em objetos, que representam **entidades do mundo real**.\n",
    "\n",
    "- **Classe**: molde ou modelo\n",
    "- **Objeto**: instância de uma classe\n",
    "- **Atributos**: dados/variáveis do objeto\n",
    "- **Métodos**: comportamentos (funções da classe)\n",
    "- **`self`**: referência ao próprio objeto\n",
    "- **`__init__`**: método construtor (executado na criação do objeto)\n"
   ]
  },
  {
   "cell_type": "markdown",
   "id": "13cb5502",
   "metadata": {},
   "source": [
    "## Exemplo: Classe `Pessoa`"
   ]
  },
  {
   "cell_type": "code",
   "execution_count": 1,
   "id": "f215207e",
   "metadata": {},
   "outputs": [],
   "source": [
    "\n",
    "class Pessoa:\n",
    "    def __init__(self, nome, idade):\n",
    "        self.nome = nome\n",
    "        self.idade = idade\n",
    "\n",
    "    def falar(self):\n",
    "        print(f\"{self.nome} está falando.\")\n"
   ]
  },
  {
   "cell_type": "markdown",
   "id": "762fdb84",
   "metadata": {},
   "source": [
    "### Criando objetos e chamando métodos"
   ]
  },
  {
   "cell_type": "code",
   "execution_count": 2,
   "id": "31cb6f99",
   "metadata": {},
   "outputs": [
    {
     "name": "stdout",
     "output_type": "stream",
     "text": [
      "Ana está falando.\n",
      "Carlos está falando.\n"
     ]
    }
   ],
   "source": [
    "\n",
    "p1 = Pessoa(\"Ana\", 22)\n",
    "p2 = Pessoa(\"Carlos\", 30)\n",
    "\n",
    "p1.falar()\n",
    "p2.falar()\n"
   ]
  },
  {
   "cell_type": "markdown",
   "id": "fdbea79b",
   "metadata": {},
   "source": [
    "## Atividade prática: Classe `Carro`"
   ]
  },
  {
   "cell_type": "markdown",
   "id": "1f40e813",
   "metadata": {},
   "source": [
    "\n",
    "Crie uma classe chamada `Carro` com:\n",
    "\n",
    "- Atributos: `marca`, `modelo`, `ano`\n",
    "- Método `ligar()` que imprime uma mensagem como: `\"O carro Fiat Uno foi ligado.\"`\n"
   ]
  },
  {
   "cell_type": "code",
   "execution_count": 3,
   "id": "318ac57a",
   "metadata": {},
   "outputs": [],
   "source": [
    "class Carro:\n",
    "    def __init__(self, marca, modelo, ano):\n",
    "        self.marca = marca\n",
    "        self.modelo = modelo\n",
    "        self.ano = ano\n",
    "\n",
    "    def ligar(self):\n",
    "        print(f\"O carro {self.marca} {self.modelo} foi ligado.\")"
   ]
  },
  {
   "cell_type": "code",
   "execution_count": 4,
   "id": "6c3058da",
   "metadata": {},
   "outputs": [
    {
     "name": "stdout",
     "output_type": "stream",
     "text": [
      "O carro Fiat Uno foi ligado.\n"
     ]
    }
   ],
   "source": [
    "\n",
    "# Exemplo de uso esperado:\n",
    "meu_carro = Carro(\"Fiat\", \"Uno\", 2010)\n",
    "meu_carro.ligar()\n"
   ]
  }
 ],
 "metadata": {
  "kernelspec": {
   "display_name": "Python 3",
   "language": "python",
   "name": "python3"
  },
  "language_info": {
   "codemirror_mode": {
    "name": "ipython",
    "version": 3
   },
   "file_extension": ".py",
   "mimetype": "text/x-python",
   "name": "python",
   "nbconvert_exporter": "python",
   "pygments_lexer": "ipython3",
   "version": "3.13.3"
  }
 },
 "nbformat": 4,
 "nbformat_minor": 5
}
