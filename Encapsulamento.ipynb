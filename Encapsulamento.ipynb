{
 "cells": [
  {
   "cell_type": "markdown",
   "id": "b6ff5372",
   "metadata": {},
   "source": [
    "# Encapsulamento\n",
    "Modificadores de Acesso:\n",
    "\n",
    "- **Public** (public): Acesso livre a qualquer parte do programa.\n",
    "\n",
    "- **Protected** (_protegido em Python): Acesso permitido dentro da classe e subclasses.\n",
    "\n",
    "- **Private** (__privado em Python): Acesso restrito apenas à própria classe.\n"
   ]
  },
  {
   "cell_type": "code",
   "execution_count": null,
   "id": "12ee0122",
   "metadata": {},
   "outputs": [],
   "source": [
    "class ContaBancaria:\n",
    "    def __init__(self, titular, saldo):\n",
    "        self.titular = titular        # público\n",
    "        self._saldo = saldo           # protegido\n",
    "        self.__senha = \"1234\"          # privado"
   ]
  },
  {
   "cell_type": "markdown",
   "id": "e8493542",
   "metadata": {},
   "source": [
    "# Getters e Setters"
   ]
  },
  {
   "cell_type": "code",
   "execution_count": null,
   "id": "45957bfe",
   "metadata": {},
   "outputs": [],
   "source": [
    "class Conta:\n",
    "    def __init__(self):\n",
    "        self.__saldo = 0\n",
    "\n",
    "    def get_saldo(self):\n",
    "        return self.__saldo\n",
    "\n",
    "    def set_saldo(self, valor):\n",
    "        if valor >= 0:\n",
    "            self.__saldo = valor"
   ]
  },
  {
   "cell_type": "code",
   "execution_count": null,
   "id": "a0412c02",
   "metadata": {},
   "outputs": [],
   "source": [
    "# Exemplo Prático de Encapsulamento\n",
    "class Aluno:\n",
    "    def __init__(self, nome, nota):\n",
    "        self.__nome = nome\n",
    "        self.__nota = nota\n",
    "\n",
    "    def get_nota(self):\n",
    "        return self.__nota\n",
    "\n",
    "    def set_nota(self, nota):\n",
    "        if 0 <= nota <= 10:\n",
    "            self.__nota = nota\n"
   ]
  },
  {
   "cell_type": "code",
   "execution_count": 3,
   "id": "6d523565",
   "metadata": {},
   "outputs": [],
   "source": [
    "# Imagine que você tem uma classe ContaBancaria, e quer garantir que ninguém consiga deixar o saldo negativo. \n",
    "# Com set_saldo, você controla isso: \n",
    "\n",
    "class ContaBancaria:\n",
    "    def __init__(self):\n",
    "        self.__saldo = 0\n",
    "\n",
    "    def get_saldo(self):\n",
    "        return self.__saldo\n",
    "\n",
    "    def set_saldo(self, valor):\n",
    "        if valor >= 0:\n",
    "            self.__saldo = valor\n",
    "        else:\n",
    "            print(\"Erro: saldo não pode ser negativo!\")"
   ]
  },
  {
   "cell_type": "code",
   "execution_count": null,
   "id": "70917d1f",
   "metadata": {},
   "outputs": [
    {
     "name": "stdout",
     "output_type": "stream",
     "text": [
      "Erro: saldo não pode ser negativo!\n",
      "0\n"
     ]
    }
   ],
   "source": [
    "# Criando a instância e usando os métodos\n",
    "conta = ContaBancaria()\n",
    "conta.set_saldo(100)  # Usando o setter\n",
    "print(conta.get_saldo())  # Usando o getter"
   ]
  }
 ],
 "metadata": {
  "kernelspec": {
   "display_name": "Python 3",
   "language": "python",
   "name": "python3"
  },
  "language_info": {
   "codemirror_mode": {
    "name": "ipython",
    "version": 3
   },
   "file_extension": ".py",
   "mimetype": "text/x-python",
   "name": "python",
   "nbconvert_exporter": "python",
   "pygments_lexer": "ipython3",
   "version": "3.13.3"
  }
 },
 "nbformat": 4,
 "nbformat_minor": 5
}
