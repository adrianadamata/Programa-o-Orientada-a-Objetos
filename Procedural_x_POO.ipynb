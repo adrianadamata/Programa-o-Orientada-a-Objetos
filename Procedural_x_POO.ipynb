{
 "cells": [
  {
   "cell_type": "markdown",
   "id": "678b125f",
   "metadata": {},
   "source": [
    "A programação procedural é baseada em procedimentos ou funções, onde o foco está na sequência de instruções a serem executadas. Ela organiza o código em blocos de funções que manipulam dados diretamente. Já a programação orientada a objetos (POO) organiza o código em torno de objetos, que combinam dados (atributos) e comportamentos (métodos). A POO promove reutilização de código e encapsulamento, enquanto a programação procedural é mais linear e direta."
   ]
  },
  {
   "cell_type": "code",
   "execution_count": 1,
   "id": "97b98859",
   "metadata": {},
   "outputs": [],
   "source": [
    "class Pessoa:\n",
    "    def __init__(self, nome, idade):\n",
    "        self.nome = nome\n",
    "        self.idade = idade\n",
    "\n",
    "    def falar(self):\n",
    "        print(f\"{self.nome} está falando.\")"
   ]
  },
  {
   "cell_type": "code",
   "execution_count": null,
   "id": "dc1c2940",
   "metadata": {},
   "outputs": [],
   "source": []
  }
 ],
 "metadata": {
  "kernelspec": {
   "display_name": "Python 3",
   "language": "python",
   "name": "python3"
  },
  "language_info": {
   "codemirror_mode": {
    "name": "ipython",
    "version": 3
   },
   "file_extension": ".py",
   "mimetype": "text/x-python",
   "name": "python",
   "nbconvert_exporter": "python",
   "pygments_lexer": "ipython3",
   "version": "3.13.3"
  }
 },
 "nbformat": 4,
 "nbformat_minor": 5
}
