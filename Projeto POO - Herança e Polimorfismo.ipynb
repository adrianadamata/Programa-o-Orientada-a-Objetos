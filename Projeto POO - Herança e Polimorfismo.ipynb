{
 "cells": [
  {
   "cell_type": "markdown",
   "id": "92861a9a",
   "metadata": {},
   "source": [
    "Projeto POO - **Sistema de Cadastro de Alunos**\n",
    "\n",
    "📌 Propósito do Projeto:\n",
    "O projeto tem como objetivo simular um sistema simples de cadastro e gerenciamento de alunos, no qual começaremos a aplicar os conceitos fundamentais da Programação Orientada a Objetos (POO) de forma prática e contextualizada."
   ]
  },
  {
   "cell_type": "markdown",
   "id": "98baf20b",
   "metadata": {},
   "source": [
    "🧠 Conceitos que estamos aplicando nesta fase:\n",
    "Encapsulamento: protegendo os dados do aluno (como nome, matrícula e notas), permitindo acesso controlado por meio de métodos (getters e setters).\n",
    "\n",
    "Validação de dados: garantindo que somente informações corretas sejam registradas, como nomes não vazios e matrículas com o número correto de dígitos.\n",
    "\n",
    "Responsabilidade clara dos métodos: cada método tem uma função bem definida (ex: adicionar_nota(), calcular_media()), seguindo o princípio da coesão."
   ]
  },
  {
   "cell_type": "markdown",
   "id": "cf5ccb38",
   "metadata": {},
   "source": [
    " Classe Aluno"
   ]
  },
  {
   "cell_type": "code",
   "execution_count": 1,
   "id": "30177dfd",
   "metadata": {},
   "outputs": [],
   "source": [
    "class Aluno:\n",
    "    def __init__(self, nome, matricula):\n",
    "        # Atributos privados:\n",
    "        self.__nome = None \n",
    "        self.__matricula = None\n",
    "        self.__notas = []\n",
    "\n",
    "        self.set_nome(nome)\n",
    "        self.set_matricula(matricula)\n",
    "\n",
    "    # Getter para o nome:\n",
    "    def get_nome(self):\n",
    "        return self.__nome\n",
    "    \n",
    "    # Setter para o nome, com validação: não pode ser vazio ou conter apenas espaços\n",
    "    def set_nome(self, nome):\n",
    "        if nome: # Verifica se o nome não é vazio ou apenas espaços\n",
    "            self.__nome = nome\n",
    "        else:\n",
    "            print(\"Nome inválido. Por favor, insira um nome válido.\")\n",
    "\n",
    "    # Getter para a matrícula\n",
    "    def get_matricula(self):\n",
    "        return self.__matricula\n",
    "\n",
    "    # Setter para matrícula com validação: número entre 8 e 10 dígitos\n",
    "    def set_matricula(self, matricula):\n",
    "        if matricula.isdigit() and 8 <= len(matricula) <= 10:\n",
    "            self.__matricula = matricula\n",
    "        else:\n",
    "            print(\"Matrícula inválida. Deve conter entre 8 e 10 dígitos numéricos.\")\n",
    "\n",
    "    def adicionar_nota(self, nota):\n",
    "        if 0 <= nota <= 10:\n",
    "            self.__notas.append(nota)\n",
    "        else:\n",
    "            print(\"Nota inválida!\")\n",
    "\n",
    "    def calcular_media(self): # Retorna a média das notas do aluno ou 0 se não houver notas.\n",
    "        if len(self.__notas) == 0:\n",
    "            return 0\n",
    "        return sum(self.__notas) / len(self.__notas)\n",
    "    \n",
    "    def mostrar_dados(self):\n",
    "        print(f\"Nome: {self.get_nome()}\")\n",
    "        print(f\"Matrícula: {self.get_matricula()}\")\n",
    "        print(f\"Média: {self.calcular_media():.2f}\")\n"
   ]
  },
  {
   "cell_type": "markdown",
   "id": "c337d591",
   "metadata": {},
   "source": [
    "Herança – Subclasses de Aluno\n",
    "A ideia é criar subclasses que representam diferentes tipos de alunos: Integrado, Subsequente, Graduação e Pós-Graduação.\n",
    "\n",
    "🧠 Nota Didática: Aqui temos polimorfismo por sobrescrita — cada tipo de aluno personaliza o método mostrar_dados()."
   ]
  },
  {
   "cell_type": "code",
   "execution_count": 2,
   "id": "aa07e928",
   "metadata": {},
   "outputs": [],
   "source": [
    "class AlunoIntegrado(Aluno):\n",
    "    def __init__(self, nome, matricula, curso_tecnico):\n",
    "        super().__init__(nome, matricula)\n",
    "        self.curso_tecnico = curso_tecnico\n",
    "\n",
    "    def mostrar_dados(self):\n",
    "        super().mostrar_dados()\n",
    "        print(f\"Curso Técnico: {self.curso_tecnico}\")\n",
    "\n",
    "class AlunoGraduacao(Aluno):\n",
    "    def __init__(self, nome, matricula, curso_graduacao):\n",
    "        super().__init__(nome, matricula)\n",
    "        self.curso_graduacao = curso_graduacao\n",
    "\n",
    "    def mostrar_dados(self):\n",
    "        super().mostrar_dados()\n",
    "        print(f\"Curso de Graduação: {self.curso_graduacao}\")\n"
   ]
  },
  {
   "cell_type": "code",
   "execution_count": 3,
   "id": "212f79e5",
   "metadata": {},
   "outputs": [
    {
     "name": "stdout",
     "output_type": "stream",
     "text": [
      "Nome: João\n",
      "Matrícula: 12345678\n",
      "Média: 8.50\n",
      "Curso Técnico: Informática\n",
      "---\n",
      "Nome: Mariana\n",
      "Matrícula: 98765432\n",
      "Média: 6.50\n",
      "Curso de Graduação: Sistemas de Informação\n"
     ]
    }
   ],
   "source": [
    "# Testando o Polimorfismo\n",
    "aluno1 = AlunoIntegrado(\"João\", \"12345678\", \"Informática\")\n",
    "aluno2 = AlunoGraduacao(\"Mariana\", \"98765432\", \"Sistemas de Informação\")\n",
    "\n",
    "aluno1.adicionar_nota(8)\n",
    "aluno1.adicionar_nota(9)\n",
    "\n",
    "aluno2.adicionar_nota(7)\n",
    "aluno2.adicionar_nota(6)\n",
    "\n",
    "# Polimorfismo: mesmo método, comportamentos diferentes\n",
    "aluno1.mostrar_dados()\n",
    "print(\"---\")\n",
    "aluno2.mostrar_dados()\n"
   ]
  },
  {
   "cell_type": "markdown",
   "id": "87531daa",
   "metadata": {},
   "source": [
    "Desafio proposto para os alunos:\n",
    "🗂️ Desafio: Cadastro de Alunos por Nível de Ensino\n",
    "\n",
    "Crie mais duas subclasses: AlunoSubsequente e AlunoPosGraduacao, com atributos personalizados como turno ou area_pesquisa.\n",
    "\n",
    "Redefina mostrar_dados() em cada subclasse.\n",
    "\n",
    "Crie uma lista de diferentes alunos (list_alunos) e percorra com for aluno in list_alunos: aluno.mostrar_dados() para demonstrar polimorfismo em ação."
   ]
  }
 ],
 "metadata": {
  "kernelspec": {
   "display_name": "Python 3",
   "language": "python",
   "name": "python3"
  },
  "language_info": {
   "codemirror_mode": {
    "name": "ipython",
    "version": 3
   },
   "file_extension": ".py",
   "mimetype": "text/x-python",
   "name": "python",
   "nbconvert_exporter": "python",
   "pygments_lexer": "ipython3",
   "version": "3.13.3"
  }
 },
 "nbformat": 4,
 "nbformat_minor": 5
}
