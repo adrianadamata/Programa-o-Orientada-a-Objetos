{
 "cells": [
  {
   "cell_type": "markdown",
   "id": "f2f382df",
   "metadata": {},
   "source": [
    "# Revisão Herança e Polimorfismo\n",
    "Conceito de Herança: reuso de atributos e métodos.\n",
    "\n",
    "Polimorfismo: capacidade de métodos com o mesmo nome se comportarem de forma diferente dependendo da classe.\n",
    "\n",
    "Uso de super() para herdar corretamente.\n",
    "\n",
    "Sobrescrita de métodos (mostrar_dados).\n",
    "\n",
    "## Criar um método abstrato"
   ]
  },
  {
   "cell_type": "code",
   "execution_count": null,
   "id": "fb532949",
   "metadata": {},
   "outputs": [],
   "source": [
    "class Aluno:\n",
    "    def realizar_atividade(self):\n",
    "        print(\"Atividade genérica para alunos.\")\n",
    "\n",
    "# Subclasse: Integrado\n",
    "class AlunoIntegrado(Aluno):\n",
    "    def realizar_atividade(self):\n",
    "        print(f\"{self.nome} (Integrado) está participando de uma aula prática no laboratório.\")\n",
    "\n",
    "# Subclasse: Subsequente\n",
    "class AlunoSubsequente(Aluno):\n",
    "    def realizar_atividade(self):\n",
    "        print(f\"{self.nome} (Subsequente) está fazendo estágio supervisionado.\")\n",
    "\n",
    "# Subclasse: Graduação\n",
    "class AlunoGraduacao(Aluno):\n",
    "    def realizar_atividade(self):\n",
    "        super().realizar_atividade(nome,matricula)\n",
    "        print(f\"{self.nome} (Graduação) está escrevendo seu trabalho de conclusão de curso (TCC).\")\n",
    "\n",
    "# Subclasse: Pós-Graduação\n",
    "class AlunoPosGraduacao(Aluno):\n",
    "    def realizar_atividade(self):\n",
    "        super().realizar_atividade(nome, matricula)\n",
    "        print(f\"{self.nome} (Pós-Graduação) está realizando pesquisa acadêmica com seu orientador.\")\n"
   ]
  },
  {
   "cell_type": "markdown",
   "id": "df794565",
   "metadata": {},
   "source": [
    "🧠 Desafio da aula:\n",
    "\n",
    "“Após implementar o método realizar_atividade() em cada subclasse com uma ação coerente, percorra uma lista de objetos alunos e chame esse método. O comportamento deve variar de acordo com o tipo de aluno.”"
   ]
  },
  {
   "cell_type": "markdown",
   "id": "f990d562",
   "metadata": {},
   "source": [
    "# Composição\n",
    "\n",
    "Vamos imaginar que, além dos dados do aluno, você queira guardar informações sobre o curso que ele faz. Nesse caso, você pode criar uma classe Curso e usá-la como um atributo da classe Aluno."
   ]
  },
  {
   "cell_type": "markdown",
   "id": "1c01d8d3",
   "metadata": {},
   "source": [
    "1. Criar uma nova classe Curso:"
   ]
  },
  {
   "cell_type": "code",
   "execution_count": 1,
   "id": "0b4793bc",
   "metadata": {},
   "outputs": [],
   "source": [
    "class Curso:\n",
    "    def __init__(self, nome, duracao):\n",
    "        self.nome = nome\n",
    "        self.duracao = duracao  # em semestres\n",
    "\n",
    "    def descricao(self):\n",
    "        return f\"Curso de {self.nome}, duração de {self.duracao} semestres.\"\n"
   ]
  },
  {
   "cell_type": "markdown",
   "id": "6c373282",
   "metadata": {},
   "source": [
    "2. Modificar a classe Aluno para receber um curso como objeto:"
   ]
  },
  {
   "cell_type": "code",
   "execution_count": 2,
   "id": "3860ccd4",
   "metadata": {},
   "outputs": [],
   "source": [
    "class Aluno:\n",
    "    def __init__(self, nome, matricula, curso):\n",
    "        # Atributos privados:\n",
    "        self.__nome = None \n",
    "        self.__matricula = None\n",
    "        self.__notas = []\n",
    "        self.curso = curso  # composição: o aluno tem um curso\n",
    "\n",
    "        self.set_nome(nome)\n",
    "        self.set_matricula(matricula)\n",
    "\n",
    "    # Getter para o nome:\n",
    "    def get_nome(self):\n",
    "        return self.__nome\n",
    "    \n",
    "    # Setter para o nome, com validação: não pode ser vazio ou conter apenas espaços\n",
    "    def set_nome(self, nome):\n",
    "        if nome: # Verifica se o nome não é vazio ou apenas espaços\n",
    "            self.__nome = nome\n",
    "        else:\n",
    "            print(\"Nome inválido. Por favor, insira um nome válido.\")\n",
    "\n",
    "    # Getter para a matrícula\n",
    "    def get_matricula(self):\n",
    "        return self.__matricula\n",
    "\n",
    "    # Setter para matrícula com validação: número entre 8 e 10 dígitos\n",
    "    def set_matricula(self, matricula):\n",
    "        if matricula.isdigit() and 8 <= len(matricula) <= 10:\n",
    "            self.__matricula = matricula\n",
    "        else:\n",
    "            print(\"Matrícula inválida. Deve conter entre 8 e 10 dígitos numéricos.\")\n",
    "\n",
    "    def adicionar_nota(self, nota):\n",
    "        if 0 <= nota <= 10:\n",
    "            self.__notas.append(nota)\n",
    "        else:\n",
    "            print(\"Nota inválida!\")\n",
    "\n",
    "    def calcular_media(self): # Retorna a média das notas do aluno ou 0 se não houver notas.\n",
    "        if len(self.__notas) == 0:\n",
    "            return 0\n",
    "        return sum(self.__notas) / len(self.__notas)\n",
    "    \n",
    "    def mostrar_dados(self):\n",
    "        print(f\"Nome: {self.get_nome()}\")\n",
    "        print(f\"Matrícula: {self.get_matricula()}\")\n",
    "        print(f\"Média: {self.calcular_media():.2f}\")\n",
    "        print(self.curso.descricao())\n"
   ]
  },
  {
   "cell_type": "code",
   "execution_count": 3,
   "id": "e2abb6c8",
   "metadata": {},
   "outputs": [],
   "source": [
    "class AlunoSubsequente(Aluno):\n",
    "    def __init__(self, nome, matricula, curso, curso_tecnico):\n",
    "        super().__init__(nome, matricula, curso)\n",
    "        self.curso_tecnico = curso_tecnico\n",
    "\n",
    "    def mostrar_dados(self):\n",
    "        super().mostrar_dados()\n",
    "        print(f\"Curso Técnico: {self.curso.nome} ({self.curso.duracao} semestres)\")\n",
    "\n",
    "class AlunoGraduacao(Aluno):\n",
    "    def __init__(self, nome, matricula, curso, curso_graduacao):\n",
    "        super().__init__(nome, matricula, curso)\n",
    "        self.curso_graduacao = curso_graduacao\n",
    "\n",
    "    def mostrar_dados(self):\n",
    "        super().mostrar_dados()\n",
    "        print(f\"Curso de Graduação: {self.curso.nome} ({self.curso.duracao} semestres)\")\n"
   ]
  },
  {
   "cell_type": "markdown",
   "id": "9233bf3e",
   "metadata": {},
   "source": [
    "3. Criar instâncias e testar:"
   ]
  },
  {
   "cell_type": "code",
   "execution_count": 4,
   "id": "df2f09ca",
   "metadata": {},
   "outputs": [
    {
     "name": "stdout",
     "output_type": "stream",
     "text": [
      "Nome: Ana\n",
      "Matrícula: 12345678\n",
      "Média: 8.50\n",
      "Curso de Licenciatura em Informática, duração de 8 semestres.\n",
      "Curso de Graduação: Licenciatura em Informática (8 semestres)\n",
      "-----\n",
      "Nome: Carlos\n",
      "Matrícula: 87654321\n",
      "Média: 6.50\n",
      "Curso de Técnico em Redes de Computadores, duração de 3 semestres.\n",
      "Curso Técnico: Técnico em Redes de Computadores (3 semestres)\n"
     ]
    }
   ],
   "source": [
    "curso1 = Curso(\"Licenciatura em Informática\", 8)\n",
    "curso2 = Curso(\"Técnico em Redes de Computadores\", 3)\n",
    "\n",
    "aluno1 = AlunoGraduacao(\"Ana\", \"12345678\", curso1, \"Graduação\")\n",
    "aluno2 = AlunoSubsequente(\"Carlos\", \"87654321\", curso2, \"Subsequente\")\n",
    "\n",
    "aluno1.adicionar_nota(8)\n",
    "aluno1.adicionar_nota(9)\n",
    "\n",
    "aluno2.adicionar_nota(7)\n",
    "aluno2.adicionar_nota(6)\n",
    "\n",
    "aluno1.mostrar_dados()\n",
    "print(\"-----\")\n",
    "aluno2.mostrar_dados()\n"
   ]
  }
 ],
 "metadata": {
  "kernelspec": {
   "display_name": "Python 3",
   "language": "python",
   "name": "python3"
  },
  "language_info": {
   "codemirror_mode": {
    "name": "ipython",
    "version": 3
   },
   "file_extension": ".py",
   "mimetype": "text/x-python",
   "name": "python",
   "nbconvert_exporter": "python",
   "pygments_lexer": "ipython3",
   "version": "3.13.3"
  }
 },
 "nbformat": 4,
 "nbformat_minor": 5
}
