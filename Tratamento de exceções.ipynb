{
 "cells": [
  {
   "cell_type": "markdown",
   "id": "b8abad42",
   "metadata": {},
   "source": [
    "1. Divisão com verificação de divisão por zero"
   ]
  },
  {
   "cell_type": "code",
   "execution_count": 1,
   "id": "b3db4807",
   "metadata": {},
   "outputs": [
    {
     "name": "stdout",
     "output_type": "stream",
     "text": [
      "Erro: Digite um número inteiro válido.\n",
      "Resultado da divisão: 1.25\n"
     ]
    }
   ],
   "source": [
    "while True:    \n",
    "    try:\n",
    "        num = int(input(\"Digite um número inteiro: \"))\n",
    "        resultado = 10 / num\n",
    "        print(f\"Resultado da divisão: {resultado}\")\n",
    "        break\n",
    "    except ZeroDivisionError:\n",
    "        print(\"Erro: Não é possível dividir por zero.\")\n",
    "    except ValueError:\n",
    "        print(\"Erro: Digite um número inteiro válido.\")"
   ]
  },
  {
   "cell_type": "markdown",
   "id": "d01729bc",
   "metadata": {},
   "source": [
    "2. Leitura de arquivo que pode não existir"
   ]
  },
  {
   "cell_type": "code",
   "execution_count": 8,
   "id": "af7684e0",
   "metadata": {},
   "outputs": [
    {
     "name": "stdout",
     "output_type": "stream",
     "text": [
      "⚠️ Arquivo não encontrado.\n"
     ]
    }
   ],
   "source": [
    "try:\n",
    "    arquivo = open(\"dados.txt\", \"r\")\n",
    "    conteudo = arquivo.read()\n",
    "    print(conteudo)\n",
    "    arquivo.close()\n",
    "except FileNotFoundError:\n",
    "    print(\"⚠️ Arquivo não encontrado.\")"
   ]
  },
  {
   "cell_type": "markdown",
   "id": "440376a0",
   "metadata": {},
   "source": [
    "### 📌 Principais Exceções em Python\n",
    "\n",
    "| Exceção              | Quando acontece                                                                 |\n",
    "|----------------------|----------------------------------------------------------------------------------|\n",
    "| `ValueError`         | Quando o tipo está certo, mas o **valor** é inválido. Ex: `int(\"abc\")`           |\n",
    "| `TypeError`          | Quando se usa um tipo **incompatível**. Ex: somar número com string             |\n",
    "| `ZeroDivisionError`  | Quando tenta **dividir por zero**. Ex: `10 / 0`                                 |\n",
    "| `IndexError`         | Quando o **índice não existe** na lista. Ex: acessar `lista[5]` quando ela só tem 3 elementos |\n",
    "| `KeyError`           | Quando a **chave não existe** em um dicionário. Ex: `dicionario[\"inexistente\"]` |\n",
    "| `FileNotFoundError`  | Quando tenta **abrir um arquivo** que não existe.                               |\n",
    "| `AttributeError`     | Quando tenta acessar um **atributo que não existe** em um objeto.               |\n",
    "| `NameError`          | Quando uma **variável não foi definida**.                                       |\n",
    "| `ImportError`        | Quando não consegue **importar um módulo ou função**.                           |\n",
    "| `IndentationError`   | Quando há **erro de indentação** (espaçamento incorreto no código).             |\n",
    "| `SyntaxError`        | Quando há **erro de sintaxe**\n"
   ]
  },
  {
   "cell_type": "code",
   "execution_count": 3,
   "id": "56ebe5ca",
   "metadata": {},
   "outputs": [
    {
     "name": "stdout",
     "output_type": "stream",
     "text": [
      "1\n"
     ]
    }
   ],
   "source": [
    "try:\n",
    "    lista = [1, 2, 3]\n",
    "    print(lista[0])\n",
    "except IndexError:\n",
    "    print(\"⚠️ Índice fora da lista!\")\n"
   ]
  }
 ],
 "metadata": {
  "kernelspec": {
   "display_name": "Python 3",
   "language": "python",
   "name": "python3"
  },
  "language_info": {
   "codemirror_mode": {
    "name": "ipython",
    "version": 3
   },
   "file_extension": ".py",
   "mimetype": "text/x-python",
   "name": "python",
   "nbconvert_exporter": "python",
   "pygments_lexer": "ipython3",
   "version": "3.13.3"
  }
 },
 "nbformat": 4,
 "nbformat_minor": 5
}
