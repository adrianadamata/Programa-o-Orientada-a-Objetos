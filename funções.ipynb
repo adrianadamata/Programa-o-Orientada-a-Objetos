{
 "cells": [
  {
   "cell_type": "markdown",
   "id": "2f771bf0",
   "metadata": {},
   "source": [
    "Exemplo de Função"
   ]
  },
  {
   "cell_type": "code",
   "execution_count": 4,
   "id": "402a7563",
   "metadata": {},
   "outputs": [
    {
     "name": "stdout",
     "output_type": "stream",
     "text": [
      "Texto: Programar é divertido. Programar é aprender. Aprender é crescer.\n",
      "Frequência das palavras: {'programar': 2, 'é': 3, 'divertido.': 1, 'aprender.': 1, 'aprender': 1, 'crescer.': 1}\n",
      "Palavra mais frequente: é\n"
     ]
    }
   ],
   "source": [
    "# Função para contar a frequência de cada palavra em um texto\n",
    "# Esta função recebe um texto como entrada, converte-o para letras minúsculas,\n",
    "# divide-o em palavras e calcula a frequência de cada palavra em um dicionário.\n",
    "def contar_palavras(texto):\n",
    "    palavras = texto.lower().split()  # Converte o texto para minúsculas e divide em palavras\n",
    "    frequencia = {}  # Dicionário para armazenar a frequência de cada palavra\n",
    "    for palavra in palavras:\n",
    "        # Incrementa a contagem da palavra no dicionário ou inicializa com 1 se não existir\n",
    "        frequencia[palavra] = frequencia.get(palavra, 0) + 1\n",
    "    return frequencia  # Retorna o dicionário com as frequências\n",
    "\n",
    "# Função para encontrar a palavra mais frequente\n",
    "# Esta função recebe um dicionário de frequências como entrada e retorna a palavra\n",
    "# com a maior frequência.\n",
    "def palavra_mais_frequente(frequencia):\n",
    "    return max(frequencia, key=frequencia.get)  # Retorna a palavra com maior frequência\n",
    "\n",
    "# Exemplo de uso\n",
    "texto = \"Programar é divertido. Programar é aprender. Aprender é crescer.\"\n",
    "print(\"Texto:\", texto)\n",
    "\n",
    "# Chama a função para contar a frequência das palavras no texto\n",
    "frequencia = contar_palavras(texto)\n",
    "print(\"Frequência das palavras:\", frequencia)\n",
    "\n",
    "# Chama a função para encontrar a palavra mais frequente no texto\n",
    "print(\"Palavra mais frequente:\", palavra_mais_frequente(frequencia))\n"
   ]
  },
  {
   "cell_type": "code",
   "execution_count": null,
   "id": "9d0674e8",
   "metadata": {},
   "outputs": [],
   "source": []
  }
 ],
 "metadata": {
  "kernelspec": {
   "display_name": "Python 3",
   "language": "python",
   "name": "python3"
  },
  "language_info": {
   "codemirror_mode": {
    "name": "ipython",
    "version": 3
   },
   "file_extension": ".py",
   "mimetype": "text/x-python",
   "name": "python",
   "nbconvert_exporter": "python",
   "pygments_lexer": "ipython3",
   "version": "3.13.3"
  }
 },
 "nbformat": 4,
 "nbformat_minor": 5
}
